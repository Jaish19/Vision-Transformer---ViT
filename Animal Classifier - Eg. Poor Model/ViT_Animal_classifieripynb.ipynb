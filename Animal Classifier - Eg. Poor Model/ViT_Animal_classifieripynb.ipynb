{
  "nbformat": 4,
  "nbformat_minor": 0,
  "metadata": {
    "colab": {
      "provenance": []
    },
    "kernelspec": {
      "name": "python3",
      "display_name": "Python 3"
    },
    "language_info": {
      "name": "python"
    }
  },
  "cells": [
    {
      "cell_type": "code",
      "execution_count": 8,
      "metadata": {
        "colab": {
          "base_uri": "https://localhost:8080/",
          "height": 36
        },
        "id": "kc_T49ICNQqY",
        "outputId": "337660c3-41c2-4c54-b083-2734bb109c60"
      },
      "outputs": [
        {
          "output_type": "execute_result",
          "data": {
            "text/plain": [
              "'lion'"
            ],
            "application/vnd.google.colaboratory.intrinsic+json": {
              "type": "string"
            }
          },
          "metadata": {},
          "execution_count": 8
        }
      ],
      "source": [
        "# Hugging Face: https://huggingface.co/victor/animals-classifier\n",
        "# Load model directly\n",
        "\n",
        "# Use a pipeline as a high-level helper\n",
        "from transformers import pipeline\n",
        "from PIL import Image\n",
        "\n",
        "pipe = pipeline(\"image-classification\", model=\"victor/animals-classifier\")\n",
        "\n",
        "# Load model directly\n",
        "from transformers import AutoImageProcessor, AutoModelForImageClassification\n",
        "\n",
        "processor = AutoImageProcessor.from_pretrained(\"victor/animals-classifier\")\n",
        "model = AutoModelForImageClassification.from_pretrained(\"victor/animals-classifier\")\n",
        "img = Image.open(\"/content/Chetah.jpg\")\n",
        "inputs = processor(images=img, return_tensors=\"pt\")\n",
        "outputs = model(**inputs)\n",
        "logits = outputs.logits\n",
        "\n",
        "predicted_label = logits.argmax(-1).item()\n",
        "model.config.id2label[predicted_label]\n",
        "\n",
        "# import torch\n",
        "# from PIL import Image\n",
        "\n",
        "\n",
        "# from transformers import AutoModelForImageClassification, ViTImageProcessor\n",
        "# img = Image.open(\"/content/clock.jpg\")\n",
        "# model = AutoModelForImageClassification.from_pretrained(\"Falconsai/nsfw_image_detection\")\n",
        "# processor = ViTImageProcessor.from_pretrained('Falconsai/nsfw_image_detection')\n",
        "# with torch.no_grad():\n",
        "#     inputs = processor(images=img, return_tensors=\"pt\")\n",
        "#     outputs = model(**inputs)\n",
        "#     logits = outputs.logits\n",
        "\n",
        "# predicted_label = logits.argmax(-1).item()\n",
        "# model.config.id2label[predicted_label]\n"
      ]
    }
  ]
}